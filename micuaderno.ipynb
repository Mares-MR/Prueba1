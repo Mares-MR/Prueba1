{
 "cells": [
  {
   "cell_type": "code",
   "execution_count": 1,
   "id": "160abe77-ff97-4264-b7a3-2eed2a7c8059",
   "metadata": {},
   "outputs": [],
   "source": [
    "import numpy as np\n",
    "import matplotlib.pyplot as plt"
   ]
  },
  {
   "cell_type": "code",
   "execution_count": 2,
   "id": "24141cec-f27f-4487-ac10-949035b1ccdf",
   "metadata": {},
   "outputs": [],
   "source": [
    "masa=47.5\n",
    "edad = 122\n",
    "masa = masa * 2\n",
    "edad = edad-20"
   ]
  },
  {
   "cell_type": "code",
   "execution_count": 3,
   "id": "bd5da16f-1b23-4e93-a605-106950acad80",
   "metadata": {
    "scrolled": true
   },
   "outputs": [
    {
     "name": "stdout",
     "output_type": "stream",
     "text": [
      "95.0 102\n"
     ]
    }
   ],
   "source": [
    "print(masa,edad)"
   ]
  },
  {
   "cell_type": "code",
   "execution_count": 6,
   "id": "f5ab101b-d182-4bde-89d1-f774c203fe4d",
   "metadata": {},
   "outputs": [
    {
     "data": {
      "text/plain": [
       "str"
      ]
     },
     "execution_count": 6,
     "metadata": {},
     "output_type": "execute_result"
    }
   ],
   "source": [
    "type(name)"
   ]
  },
  {
   "cell_type": "markdown",
   "id": "91dc1e0b-2eb9-4616-9e27-9811d1c6fe84",
   "metadata": {},
   "source": [
    "name = \"Yeray Santana-Falcon\""
   ]
  },
  {
   "cell_type": "code",
   "execution_count": 5,
   "id": "f564f262-6acb-4697-984c-9922f8c853cf",
   "metadata": {},
   "outputs": [],
   "source": [
    "name =\"Yeray Santana-Falcon\""
   ]
  },
  {
   "cell_type": "code",
   "execution_count": 8,
   "id": "fdfc8f05-6914-47fc-9f40-5476d38cc3ce",
   "metadata": {},
   "outputs": [],
   "source": [
    "a =np.random.normal(size=(15,2,1))"
   ]
  },
  {
   "cell_type": "code",
   "execution_count": 10,
   "id": "b8331158-ff86-454e-bb4c-325b13b968fd",
   "metadata": {},
   "outputs": [
    {
     "name": "stdout",
     "output_type": "stream",
     "text": [
      "y\n",
      "Falcon\n",
      "Yeray\n"
     ]
    }
   ],
   "source": [
    "nombre = 'Yeray Santana-Falcon'\n",
    "print(nombre[4])\n",
    "print(nombre[-6:])\n",
    "print(nombre[:5])"
   ]
  },
  {
   "cell_type": "code",
   "execution_count": 13,
   "id": "f9117098-7210-4b3b-9ad3-3aed6d3d5c38",
   "metadata": {},
   "outputs": [],
   "source": [
    "data =[\n",
    "    ['A','B','C'], \n",
    "    ['D','E','F'], \n",
    "    ['G','H','I']\n",
    "]"
   ]
  },
  {
   "cell_type": "code",
   "execution_count": 15,
   "id": "edf52327-e75d-461a-9896-dd36f735a1a9",
   "metadata": {},
   "outputs": [],
   "source": [
    "data=np.matrix(data)"
   ]
  },
  {
   "cell_type": "code",
   "execution_count": 19,
   "id": "d3694be6-c3ab-45b5-82c0-8175f779d772",
   "metadata": {},
   "outputs": [
    {
     "name": "stdout",
     "output_type": "stream",
     "text": [
      "[['A' 'B' 'C']\n",
      " ['D' 'E' 'F']\n",
      " ['G' 'H' 'I']]\n",
      "C\n"
     ]
    }
   ],
   "source": [
    "print(data[:,:])#imprimimos la matriz\n",
    "print(data[0,2])"
   ]
  },
  {
   "cell_type": "code",
   "execution_count": 20,
   "id": "65d5e638-7627-4c8d-b640-253468fdeac2",
   "metadata": {},
   "outputs": [
    {
     "data": {
      "text/plain": [
       "(3, 3)"
      ]
     },
     "execution_count": 20,
     "metadata": {},
     "output_type": "execute_result"
    }
   ],
   "source": [
    "np.shape(data)"
   ]
  },
  {
   "cell_type": "code",
   "execution_count": 21,
   "id": "a78115ff-e055-4534-bc00-d95b4739d7e5",
   "metadata": {},
   "outputs": [],
   "source": [
    "data_n =[\n",
    "    [1,2,3],\n",
    "    [4,5,6],\n",
    "    [7,8,9]\n",
    "]\n",
    "data_n=np.matrix(data_n)"
   ]
  },
  {
   "cell_type": "code",
   "execution_count": 22,
   "id": "da206005-6f42-4cc1-b0e9-4c915bf2c879",
   "metadata": {},
   "outputs": [
    {
     "name": "stdout",
     "output_type": "stream",
     "text": [
      "[[1 2 3]\n",
      " [4 5 6]\n",
      " [7 8 9]]\n"
     ]
    }
   ],
   "source": [
    "print(data_n[:,:])"
   ]
  },
  {
   "cell_type": "code",
   "execution_count": 23,
   "id": "e765ccd5-980c-4a91-8e53-d2a418350618",
   "metadata": {},
   "outputs": [
    {
     "data": {
      "text/plain": [
       "matrix([[7, 8, 9]])"
      ]
     },
     "execution_count": 23,
     "metadata": {},
     "output_type": "execute_result"
    }
   ],
   "source": [
    "np.max(data_n,axis=0)"
   ]
  },
  {
   "cell_type": "code",
   "execution_count": 26,
   "id": "1af2065d-905d-4b11-9cc1-db7a7808cbd9",
   "metadata": {},
   "outputs": [
    {
     "data": {
      "text/plain": [
       "np.float64(5.0)"
      ]
     },
     "execution_count": 26,
     "metadata": {},
     "output_type": "execute_result"
    }
   ],
   "source": [
    "np.mean(data_n)"
   ]
  },
  {
   "cell_type": "code",
   "execution_count": 28,
   "id": "ddc32d8f-b82c-4db6-8d44-c436d82a4dc0",
   "metadata": {},
   "outputs": [
    {
     "name": "stdout",
     "output_type": "stream",
     "text": [
      "1\n"
     ]
    }
   ],
   "source": [
    "print(np.min(data_n) )"
   ]
  },
  {
   "cell_type": "code",
   "execution_count": 32,
   "id": "64156e56-3fed-41db-a2d9-a97c64c907a3",
   "metadata": {},
   "outputs": [
    {
     "name": "stdout",
     "output_type": "stream",
     "text": [
      "9\n"
     ]
    }
   ],
   "source": [
    "num = np.max(data_n)\n",
    "print(str(num))"
   ]
  },
  {
   "cell_type": "code",
   "execution_count": 33,
   "id": "7f7e296a-8061-47b7-a9bf-e739d282cbe8",
   "metadata": {},
   "outputs": [
    {
     "name": "stdout",
     "output_type": "stream",
     "text": [
      "9 is not greater than 5\n",
      "done\n"
     ]
    }
   ],
   "source": [
    "num = np.max(data_n)\n",
    "if num == 5:\n",
    "   print(str(num), 'is greater than 5')\n",
    "else:\n",
    "    print(str(num), 'is not greater than 5')\n",
    "print('done')"
   ]
  },
  {
   "cell_type": "code",
   "execution_count": 39,
   "id": "e4a2000a-25d3-4dca-ad4c-0a3a7aa3e2ad",
   "metadata": {},
   "outputs": [
    {
     "data": {
      "image/png": "[encoded data removed]",
      "text/plain": [
       "<Figure size 640x480 with 1 Axes>"
      ]
     },
     "metadata": {},
     "output_type": "display_data"
    }
   ],
   "source": [
    "fig, ax = plt.subplots()\n",
    "ax = plt.plot(a[0, :],color='blue',linewidth='2.5',linestyle='dashed',)\n",
    "plt.xlabel('axis x')\n",
    "plt.ylabel('axis y')\n",
    "plt.title('Figura de prueba')\n",
    "plt.show()"
   ]
  },
  {
   "cell_type": "code",
   "execution_count": null,
   "id": "7d004ef8-2633-4f3c-8c0b-5826dd7e0eda",
   "metadata": {},
   "outputs": [],
   "source": []
  }
 ],
 "metadata": {
  "kernelspec": {
   "display_name": "Python [conda env:jupyterlab] *",
   "language": "python",
   "name": "conda-env-jupyterlab-py"
  },
  "language_info": {
   "codemirror_mode": {
    "name": "ipython",
    "version": 3
   },
   "file_extension": ".py",
   "mimetype": "text/x-python",
   "name": "python",
   "nbconvert_exporter": "python",
   "pygments_lexer": "ipython3",
   "version": "3.12.10"
  }
 },
 "nbformat": 4,
 "nbformat_minor": 5
}
